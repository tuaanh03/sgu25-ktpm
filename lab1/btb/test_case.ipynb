{
 "cells": [
  {
   "cell_type": "code",
   "execution_count": 1,
   "id": "f30d88f6",
   "metadata": {},
   "outputs": [
    {
     "name": "stdout",
     "output_type": "stream",
     "text": [
      "Writing baie_t1.inp\n"
     ]
    }
   ],
   "source": [
    "%%writefile baie_t1.inp\n",
    "3"
   ]
  },
  {
   "cell_type": "code",
   "execution_count": 2,
   "id": "0f21e847",
   "metadata": {},
   "outputs": [
    {
     "name": "stdout",
     "output_type": "stream",
     "text": [
      "Writing baie_t2.inp\n"
     ]
    }
   ],
   "source": [
    "%%writefile baie_t2.inp\n",
    "11"
   ]
  },
  {
   "cell_type": "code",
   "execution_count": 3,
   "id": "606cf939",
   "metadata": {},
   "outputs": [
    {
     "name": "stdout",
     "output_type": "stream",
     "text": [
      "Writing baie_t3.inp\n"
     ]
    }
   ],
   "source": [
    "%%writefile baie_t3.inp\n",
    "0"
   ]
  },
  {
   "cell_type": "code",
   "execution_count": 4,
   "id": "6974a1fb",
   "metadata": {},
   "outputs": [
    {
     "name": "stdout",
     "output_type": "stream",
     "text": [
      "Writing baie_t4.inp\n"
     ]
    }
   ],
   "source": [
    "%%writefile baie_t4.inp\n",
    "-2"
   ]
  },
  {
   "cell_type": "code",
   "execution_count": 6,
   "id": "2e1fd22f",
   "metadata": {},
   "outputs": [
    {
     "name": "stdout",
     "output_type": "stream",
     "text": [
      "Writing baie_t5.inp\n"
     ]
    }
   ],
   "source": [
    "%%writefile baie_t5.inp\n",
    "10"
   ]
  },
  {
   "cell_type": "code",
   "execution_count": 7,
   "id": "2057d9e7",
   "metadata": {},
   "outputs": [],
   "source": [
    "!./baie <baie_t5.inp >out5.txt"
   ]
  },
  {
   "cell_type": "code",
   "execution_count": 5,
   "id": "8bdea9d6",
   "metadata": {},
   "outputs": [],
   "source": [
    "!g++ bt1_test.cpp -o baie\n",
    "!./baie <baie_t1.inp >out1.txt\n",
    "!./baie <baie_t2.inp >out2.txt\n",
    "!./baie <baie_t3.inp >out3.txt\n",
    "!./baie <baie_t4.inp >out4.txt"
   ]
  }
 ],
 "metadata": {
  "kernelspec": {
   "display_name": "Python 3",
   "language": "python",
   "name": "python3"
  },
  "language_info": {
   "codemirror_mode": {
    "name": "ipython",
    "version": 3
   },
   "file_extension": ".py",
   "mimetype": "text/x-python",
   "name": "python",
   "nbconvert_exporter": "python",
   "pygments_lexer": "ipython3",
   "version": "3.12.1"
  }
 },
 "nbformat": 4,
 "nbformat_minor": 5
}
