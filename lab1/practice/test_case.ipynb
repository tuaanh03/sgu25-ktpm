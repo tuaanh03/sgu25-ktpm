{
 "cells": [
  {
   "cell_type": "code",
   "execution_count": 6,
   "id": "c9d070d8",
   "metadata": {},
   "outputs": [
    {
     "name": "stdout",
     "output_type": "stream",
     "text": [
      "Overwriting baie_t1.inp\n"
     ]
    }
   ],
   "source": [
    "%%writefile baie_t1.inp\n",
    "0 0 0\n",
    "\n",
    "\n",
    "\n",
    "\n",
    "\n",
    "\n",
    "\n",
    "\n",
    "\n",
    "\n",
    "\n"
   ]
  },
  {
   "cell_type": "code",
   "execution_count": 7,
   "id": "d187846e",
   "metadata": {},
   "outputs": [
    {
     "name": "stdout",
     "output_type": "stream",
     "text": [
      "Writing baie_t2.inp\n"
     ]
    }
   ],
   "source": [
    "%%writefile baie_t2.inp\n",
    "0 0 5"
   ]
  },
  {
   "cell_type": "code",
   "execution_count": 8,
   "id": "6e8b1aca",
   "metadata": {},
   "outputs": [
    {
     "name": "stdout",
     "output_type": "stream",
     "text": [
      "Writing baie_t3.inp\n"
     ]
    }
   ],
   "source": [
    "\n",
    "%%writefile baie_t3.inp\n",
    "0 2 -8"
   ]
  },
  {
   "cell_type": "code",
   "execution_count": 9,
   "id": "7dd59685",
   "metadata": {},
   "outputs": [
    {
     "name": "stdout",
     "output_type": "stream",
     "text": [
      "Writing baie_t4.inp\n"
     ]
    }
   ],
   "source": [
    "\n",
    "%%writefile baie_t4.inp\n",
    "0 2 0"
   ]
  },
  {
   "cell_type": "code",
   "execution_count": 10,
   "id": "aafcbb9b",
   "metadata": {},
   "outputs": [
    {
     "name": "stdout",
     "output_type": "stream",
     "text": [
      "Writing baie_t5.inp\n"
     ]
    }
   ],
   "source": [
    "%%writefile baie_t5.inp\n",
    "0 2 8\n"
   ]
  },
  {
   "cell_type": "code",
   "execution_count": 11,
   "id": "e01a42d7",
   "metadata": {},
   "outputs": [
    {
     "name": "stdout",
     "output_type": "stream",
     "text": [
      "Writing baie_t6.inp\n"
     ]
    }
   ],
   "source": [
    "\n",
    "%%writefile baie_t6.inp\n",
    "1 0 1"
   ]
  },
  {
   "cell_type": "code",
   "execution_count": 12,
   "id": "36174a5f",
   "metadata": {},
   "outputs": [
    {
     "name": "stdout",
     "output_type": "stream",
     "text": [
      "Writing baie_t7.inp\n"
     ]
    }
   ],
   "source": [
    "%%writefile baie_t7.inp\n",
    "1 -2 1"
   ]
  },
  {
   "cell_type": "code",
   "execution_count": 13,
   "id": "424618db",
   "metadata": {},
   "outputs": [
    {
     "name": "stdout",
     "output_type": "stream",
     "text": [
      "Writing baie_t8.inp\n"
     ]
    }
   ],
   "source": [
    "%%writefile baie_t8.inp\n",
    "1 -5 4\n"
   ]
  },
  {
   "cell_type": "code",
   "execution_count": 14,
   "id": "39c23978",
   "metadata": {},
   "outputs": [
    {
     "name": "stdout",
     "output_type": "stream",
     "text": [
      "Writing baie_t9.inp\n"
     ]
    }
   ],
   "source": [
    "\n",
    "%%writefile baie_t9.inp\n",
    "1 0 -1"
   ]
  },
  {
   "cell_type": "code",
   "execution_count": 15,
   "id": "1a9dc550",
   "metadata": {},
   "outputs": [
    {
     "name": "stdout",
     "output_type": "stream",
     "text": [
      "Writing baie_t10.inp\n"
     ]
    }
   ],
   "source": [
    "\n",
    "%%writefile baie_t10.inp\n",
    "1 0 0"
   ]
  },
  {
   "cell_type": "code",
   "execution_count": 10,
   "id": "f1ab04c3",
   "metadata": {},
   "outputs": [],
   "source": [
    "!g++ bt_test.cpp -o baie\n",
    "\n",
    "!./baie < baie_t1.inp > out1.txt\n",
    "!./baie < baie_t2.inp > out2.txt\n",
    "!./baie < baie_t3.inp > out3.txt\n",
    "!./baie < baie_t4.inp > out4.txt\n",
    "!./baie < baie_t5.inp > out5.txt\n",
    "!./baie < baie_t6.inp > out6.txt\n",
    "!./baie < baie_t7.inp > out7.txt\n",
    "!./baie < baie_t8.inp > out8.txt\n",
    "!./baie < baie_t9.inp > out9.txt\n",
    "!./baie < baie_t10.inp > out10.txt\n"
   ]
  },
  {
   "cell_type": "code",
   "execution_count": 43,
   "id": "16bfd083",
   "metadata": {},
   "outputs": [],
   "source": [
    "!g++ runner.cpp -o runner\n"
   ]
  },
  {
   "cell_type": "code",
   "execution_count": 44,
   "id": "e27513b6",
   "metadata": {},
   "outputs": [
    {
     "name": "stdout",
     "output_type": "stream",
     "text": [
      "Test 1 OK (so với out1.txt)\n",
      "Test 2 OK (so với out2.txt)\n",
      "Test 3 OK (so với out3.txt)\n",
      "Test 4 OK (so với out4.txt)\n",
      "Test 5 OK (so với out5.txt)\n",
      "Test 6 OK (so với out6.txt)\n",
      "Test 7 OK (so với out7.txt)\n",
      "Test 8 OK (so với out8.txt)\n",
      "Test 9 OK (so với out9.txt)\n",
      "Test 10 OK (so với out10.txt)\n",
      "=> PASS 10/10 test.\n"
     ]
    }
   ],
   "source": [
    "!./runner\n"
   ]
  }
 ],
 "metadata": {
  "kernelspec": {
   "display_name": "Python 3",
   "language": "python",
   "name": "python3"
  },
  "language_info": {
   "codemirror_mode": {
    "name": "ipython",
    "version": 3
   },
   "file_extension": ".py",
   "mimetype": "text/x-python",
   "name": "python",
   "nbconvert_exporter": "python",
   "pygments_lexer": "ipython3",
   "version": "3.12.1"
  }
 },
 "nbformat": 4,
 "nbformat_minor": 5
}
