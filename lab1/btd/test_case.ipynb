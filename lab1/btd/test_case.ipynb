{
 "cells": [
  {
   "cell_type": "code",
   "execution_count": 1,
   "id": "f30d88f6",
   "metadata": {},
   "outputs": [
    {
     "name": "stdout",
     "output_type": "stream",
     "text": [
      "Writing baie_t1.inp\n"
     ]
    }
   ],
   "source": [
    "%%writefile baie_t1.inp\n",
    "2"
   ]
  },
  {
   "cell_type": "code",
   "execution_count": 2,
   "id": "8bdea9d6",
   "metadata": {},
   "outputs": [],
   "source": [
    "!g++ bt1_test.cpp -o baie\n",
    "!./baie <baie_t1.inp >out1.txt\n",
    "\n"
   ]
  }
 ],
 "metadata": {
  "kernelspec": {
   "display_name": "Python 3",
   "language": "python",
   "name": "python3"
  },
  "language_info": {
   "codemirror_mode": {
    "name": "ipython",
    "version": 3
   },
   "file_extension": ".py",
   "mimetype": "text/x-python",
   "name": "python",
   "nbconvert_exporter": "python",
   "pygments_lexer": "ipython3",
   "version": "3.12.1"
  }
 },
 "nbformat": 4,
 "nbformat_minor": 5
}
